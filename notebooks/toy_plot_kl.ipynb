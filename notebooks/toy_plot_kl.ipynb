{
 "cells": [
  {
   "cell_type": "code",
   "execution_count": null,
   "metadata": {},
   "outputs": [],
   "source": [
    "import os\n",
    "os.chdir(\"../\")\n",
    "\n",
    "\n",
    "import matplotlib.pyplot as plt\n",
    "from util import define_style, save_plot\n",
    "\n",
    "\n",
    "define_style()"
   ]
  },
  {
   "cell_type": "code",
   "execution_count": null,
   "metadata": {},
   "outputs": [],
   "source": [
    "def plot_kl_results():\n",
    "    \"\"\"Plot KL against `K`, the number of categories.\"\"\"\n",
    "    ks = [5, 10, 20, 40, 60, 80, 100, 120, 140, 160]\n",
    "    dfm = [1e-3, 1e-3, 5*1e-3, 1.5*1e-2, 2.0*1e-2, 2.5*1e-2, 2.6*1e-2, 2.7*1e-2, 2.8*1e-2, 2.7*1e-2]\n",
    "    lfm = [1e-3, 1e-2, 2*1e-2, 2.1*1e-2, 2.6*1e-2, 4.9*1e-2, 9.0*1e-2, 0.15,     0.24,     0.299]\n",
    "    sfm = [1e-3, 2.5*1e-3, 4*1e-3, 0.02, 0.026, 0.025, 0.05, 0.08, 0.14, 0.235]\n",
    "    plt.plot(ks, dfm, marker=\"s\", label=\"Dirichlet FM\")\n",
    "    plt.plot(ks, lfm, marker=\"o\", label=\"Linear FM\")\n",
    "    plt.plot(ks, sfm, marker=\"x\", label=\"Simplex FM\")\n",
    "    plt.xlabel(\"Number of categories, K\")\n",
    "    plt.ylabel(\"KL divergence\")\n",
    "    plt.legend()\n",
    "    save_plot(\"./out/toy_kl.pdf\")\n",
    "    plt.show()\n",
    "\n",
    "\n",
    "plot_kl_results()"
   ]
  }
 ],
 "metadata": {
  "kernelspec": {
   "display_name": "sfm",
   "language": "python",
   "name": "python3"
  },
  "language_info": {
   "codemirror_mode": {
    "name": "ipython",
    "version": 3
   },
   "file_extension": ".py",
   "mimetype": "text/x-python",
   "name": "python",
   "nbconvert_exporter": "python",
   "pygments_lexer": "ipython3",
   "version": "3.10.14"
  }
 },
 "nbformat": 4,
 "nbformat_minor": 2
}
